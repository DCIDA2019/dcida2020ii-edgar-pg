{
 "cells": [
  {
   "cell_type": "markdown",
   "metadata": {},
   "source": [
    "# Preguntas Analisis descriptivo Covid-19 México"
   ]
  },
  {
   "cell_type": "markdown",
   "metadata": {},
   "source": [
    "1.- ¿Cúal es la edad promedio de los casos de defunción?\n",
    "\n",
    "2.- ¿Qué entidad tiene mejor manejo de la pandemia? \n",
    "\n",
    "3.- ¿Qué sexo es el que sufre mayor numero de defunciones?\n",
    "\n",
    "4.- ¿Que edad promedio de muerte por cada sexo? \n",
    "\n",
    "5.- ¿Qué comorbilidad es más comun en cada estado?\n",
    "\n",
    "6.- ¿Qué es la afeccion más riesgosa en hombres y mujeres? \n",
    "\n",
    "7.- ¿Que entidad presenta mayor numero de defunciones y menor numero de defunciones?\n",
    "\n",
    "8.- ¿Recien nacidos confirmados covid? \n",
    "\n",
    "9.- ¿Que edad promedio por sexo de fallecidos por Covid-19?\n"
   ]
  },
  {
   "cell_type": "markdown",
   "metadata": {},
   "source": [
    "Integrantes\n",
    "\n",
    "Fabian Hernandez\n",
    "\n",
    "Edgar Preciado \n",
    "\n",
    "Marco Antonio \n",
    "\n",
    "José de Jesus Perez\n"
   ]
  }
 ],
 "metadata": {
  "kernelspec": {
   "display_name": "Python 3",
   "language": "python",
   "name": "python3"
  },
  "language_info": {
   "codemirror_mode": {
    "name": "ipython",
    "version": 3
   },
   "file_extension": ".py",
   "mimetype": "text/x-python",
   "name": "python",
   "nbconvert_exporter": "python",
   "pygments_lexer": "ipython3",
   "version": "3.8.3"
  }
 },
 "nbformat": 4,
 "nbformat_minor": 4
}
