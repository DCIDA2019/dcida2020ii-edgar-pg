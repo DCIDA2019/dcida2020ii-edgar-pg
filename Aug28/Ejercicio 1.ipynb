{
 "cells": [
  {
   "cell_type": "code",
   "execution_count": 2,
   "metadata": {},
   "outputs": [],
   "source": [
    "import numpy as np\n",
    "import matplotlib.pyplot as plt\n",
    "from scipy import integrate"
   ]
  },
  {
   "cell_type": "markdown",
   "metadata": {},
   "source": [
    "# Ejercicio 1, Pendulo simple"
   ]
  },
  {
   "cell_type": "markdown",
   "metadata": {},
   "source": [
    " 1.- Escribe un código simple en python, para resolver la ecuación de movimiento de un péndulo simple utilizando la sintaxis básica, i.e cómo si fuera C/fortran    \n",
    "  \n",
    "  2.- Reescribe dicho código aprovechando el manejo de arreglos de numpy. \n",
    "  \n",
    "  3.- En ambos casos muestra tus resultados usando tablas y gráficos. Compara los resultados, en terminos de los tiempos de ejecución. \n",
    "  Puedes elegir libremente los parámetros para el péndulo.\n",
    "  \n",
    "  4.- Permite que los parámetros para el pendulo puedan ser proporcionados por el usuario, y ejecutar el código desde una terminal. \n",
    "  \n",
    "  Al finalizar la sesión, i.e. 7pm deben subir su actualización al repositorio "
   ]
  },
  {
   "cell_type": "markdown",
   "metadata": {},
   "source": [
    "La ecuación diferencial a resolver está dada por \n",
    "$\\ddot{\\theta}+\\frac{g}{l}\\theta=0$\n",
    "\n",
    "Realizamos el siguiente cambio de variable\n",
    "$\\ddot{\\theta}=\\dot{x}$\n",
    "$\\dot{\\theta}=x$"
   ]
  }
 ],
 "metadata": {
  "kernelspec": {
   "display_name": "Python 3",
   "language": "python",
   "name": "python3"
  },
  "language_info": {
   "codemirror_mode": {
    "name": "ipython",
    "version": 3
   },
   "file_extension": ".py",
   "mimetype": "text/x-python",
   "name": "python",
   "nbconvert_exporter": "python",
   "pygments_lexer": "ipython3",
   "version": "3.8.3"
  }
 },
 "nbformat": 4,
 "nbformat_minor": 4
}
