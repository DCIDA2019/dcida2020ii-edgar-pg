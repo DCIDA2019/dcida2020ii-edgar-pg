{
 "cells": [
  {
   "cell_type": "code",
   "execution_count": 81,
   "metadata": {},
   "outputs": [],
   "source": [
    "import numpy as np\n",
    "import matplotlib.pyplot as plt\n",
    "from scipy import integrate\n",
    "from scipy.integrate import odeint\n"
   ]
  },
  {
   "cell_type": "markdown",
   "metadata": {},
   "source": [
    "# Ejercicio 1, Pendulo simple\n",
    "## Edgar Iván Preciado Govea"
   ]
  },
  {
   "cell_type": "markdown",
   "metadata": {},
   "source": [
    " 1.- Escribe un código simple en python, para resolver la ecuación de movimiento de un péndulo simple utilizando la sintaxis básica, i.e cómo si fuera C/fortran    \n",
    "  \n",
    "  2.- Reescribe dicho código aprovechando el manejo de arreglos de numpy. \n",
    "  \n",
    "  3.- En ambos casos muestra tus resultados usando tablas y gráficos. Compara los resultados, en terminos de los tiempos de ejecución. \n",
    "  Puedes elegir libremente los parámetros para el péndulo.\n",
    "  \n",
    "  4.- Permite que los parámetros para el pendulo puedan ser proporcionados por el usuario, y ejecutar el código desde una terminal. \n",
    "  \n",
    "  Al finalizar la sesión, i.e. 7pm deben subir su actualización al repositorio \n",
    "  \n",
    "  La ecuación a resolver esta dada por $\\ddot{\\theta}=-\\frac{g}{l}\\theta$.\n",
    "  \n",
    " Para resolver, realicemos el siguiente cambio de variables: $\\ddot{\\theta}=\\dot{x}$ \n",
    " y \n",
    " $\\dot{\\theta}=x$. \n",
    " \n",
    " Con lo que debemos resolver las ecuaciones \n",
    " \n",
    " $\\dot{\\theta}=x$\n",
    " y \n",
    " $\\dot{x}=-\\frac{g}{l}\\theta$\n",
    " \n",
    " Definimos la función $pedndulo=pendudo(y,t,c)$ que a su vez depende de la función vectorial $\\vec{y}=(\\theta,x)$, del parametro $t$ y de la constante $c$ relacionada con la longuitud $l$ del pendulo y de la constante gravitatoria $g$.\n",
    " \n",
    " $\\mathbf{f}(\\mathbf{x})=\\pmatrix{y\\\\ y'}'=\\pmatrix{y'\\\\y''}=\\pmatrix{y'\\\\cy}$\n",
    "  "
   ]
  },
  {
   "cell_type": "code",
   "execution_count": 82,
   "metadata": {},
   "outputs": [],
   "source": [
    "def pendulo(y, t, c):\n",
    "    theta, x = y\n",
    "    dydt = [x, -c*theta]\n",
    "    return dydt"
   ]
  },
  {
   "cell_type": "code",
   "execution_count": null,
   "metadata": {},
   "outputs": [],
   "source": []
  },
  {
   "cell_type": "code",
   "execution_count": 83,
   "metadata": {},
   "outputs": [],
   "source": [
    "\n",
    "c = 1.96"
   ]
  },
  {
   "cell_type": "code",
   "execution_count": 84,
   "metadata": {},
   "outputs": [],
   "source": [
    "y0 = [np.pi - 0.1, 0.0]"
   ]
  },
  {
   "cell_type": "code",
   "execution_count": 85,
   "metadata": {},
   "outputs": [],
   "source": [
    "t = np.linspace(0, 10, 101)"
   ]
  },
  {
   "cell_type": "code",
   "execution_count": 86,
   "metadata": {},
   "outputs": [],
   "source": [
    "from scipy.integrate import odeint\n",
    "sol = odeint(pendulo, y0, t, args=(c,))"
   ]
  },
  {
   "cell_type": "code",
   "execution_count": 87,
   "metadata": {},
   "outputs": [
    {
     "name": "stdout",
     "output_type": "stream",
     "text": [
      "[[ 3.04159265  0.        ]\n",
      " [ 3.0118337  -0.59420662]\n",
      " [ 2.92313916 -1.17678582]\n",
      " [ 2.77724459 -1.73633765]\n",
      " [ 2.57700487 -2.2619128 ]\n",
      " [ 2.3263383  -2.74322681]\n",
      " [ 2.03014994 -3.17086133]\n",
      " [ 1.69423563 -3.53644844]\n",
      " [ 1.3251685  -3.8328343 ]\n",
      " [ 0.93017046 -4.05421923]\n",
      " [ 0.51697083 -4.19627117]\n",
      " [ 0.09365511 -4.25621044]\n",
      " [-0.33149325 -4.23286416]\n",
      " [-0.75015496 -4.12668916]\n",
      " [-1.15413763 -3.93976308]\n",
      " [-1.53553612 -3.67574368]\n",
      " [-1.88688723 -3.3397973 ]\n",
      " [-2.20131572 -2.93849774]\n",
      " [-2.47266884 -2.47969764]\n",
      " [-2.69563677 -1.97237479]\n",
      " [-2.86585645 -1.4264565 ]\n",
      " [-2.97999703 -0.8526253 ]\n",
      " [-3.03582501 -0.26210991]\n",
      " [-3.03224794  0.33353444]\n",
      " [-2.96933582  0.92265219]\n",
      " [-2.84831971  1.49371547]\n",
      " [-2.67156766  2.03554971]\n",
      " [-2.44253836  2.53755231]\n",
      " [-2.16571345  2.98990006]\n",
      " [-1.84650984  3.38374143]\n",
      " [-1.49117372  3.7113697 ]\n",
      " [-1.1066583   3.96637388]\n",
      " [-0.70048777  4.14376405]\n",
      " [-0.28061009  4.240069  ]\n",
      " [ 0.14475857  4.25340424]\n",
      " [ 0.56729459  4.18350884]\n",
      " [ 0.97872979  4.0317505 ]\n",
      " [ 1.37101319  3.80109884]\n",
      " [ 1.7364686   3.49606725]\n",
      " [ 2.06794478  3.12262458]\n",
      " [ 2.3589554   2.68807838]\n",
      " [ 2.60380596  2.20093184]\n",
      " [ 2.79770522  1.67071746]\n",
      " [ 2.93685898  1.10781045]\n",
      " [ 3.01854426  0.52322579]\n",
      " [ 3.04116265 -0.07159735]\n",
      " [ 3.00427153 -0.66501947]\n",
      " [ 2.90859281 -1.24542849]\n",
      " [ 2.75599873 -1.80146695]\n",
      " [ 2.54947523 -2.3222543 ]\n",
      " [ 2.29306359 -2.79759975]\n",
      " [ 1.99178126 -3.21820176]\n",
      " [ 1.65152374 -3.57582996]\n",
      " [ 1.27894921 -3.86348628]\n",
      " [ 0.88134819 -4.07554188]\n",
      " [ 0.46650094 -4.20784725]\n",
      " [ 0.04252521 -4.25781345]\n",
      " [-0.38228266 -4.22446272]\n",
      " [-0.79961003 -4.10844768]\n",
      " [-1.20129064 -3.91203852]\n",
      " [-1.57946439 -3.63907856]\n",
      " [-1.92673117 -3.29490907]\n",
      " [-2.23629565 -2.88626478]\n",
      " [-2.50210028 -2.42114203]\n",
      " [-2.7189438  -1.90864236]\n",
      " [-2.882583   -1.35879436]\n",
      " [-2.98981581 -0.78235746]\n",
      " [-3.03854388 -0.19061139]\n",
      " [-3.0278137   0.40486458]\n",
      " [-2.95783524  0.99241815]\n",
      " [-2.82997784  1.56055209]\n",
      " [-2.64674341  2.09814913]\n",
      " [-2.41171748  2.59468958]\n",
      " [-2.12949905  3.04045714]\n",
      " [-1.80561055  3.42672899]\n",
      " [-1.44638986  3.74594659]\n",
      " [-1.05886619  3.99186348]\n",
      " [-0.65062263  4.15966755]\n",
      " [-0.22964768  4.24607521]\n",
      " [ 0.19582102  4.24939566]\n",
      " [ 0.61745791  4.16956389]\n",
      " [ 1.02701236  4.00814207]\n",
      " [ 1.41647023  3.76828889]\n",
      " [ 1.7782106   3.4546978 ]\n",
      " [ 2.10515494  3.07350516]\n",
      " [ 2.39090558  2.63217015]\n",
      " [ 2.62987097  2.13932881]\n",
      " [ 2.81737502  1.60462507]\n",
      " [ 2.94974867  1.03852203]\n",
      " [ 3.0244016   0.45209716]\n",
      " [ 3.03987302 -0.14317436]\n",
      " [ 2.99586017 -0.73564424]\n",
      " [ 2.89322431 -1.31371902]\n",
      " [ 2.73397382 -1.86608694]\n",
      " [ 2.52122491 -2.38193925]\n",
      " [ 2.25914065 -2.85118176]\n",
      " [ 1.9528495  -3.26463232]\n",
      " [ 1.60834498 -3.61420053]\n",
      " [ 1.23236836 -3.89304604]\n",
      " [ 0.83227674 -4.09571239]\n",
      " [ 0.41589912 -4.21823381]]\n"
     ]
    }
   ],
   "source": [
    "print (sol)"
   ]
  },
  {
   "cell_type": "code",
   "execution_count": 26,
   "metadata": {},
   "outputs": [
    {
     "data": {
      "image/png": "[encoded data removed]",
      "text/plain": [
       "<Figure size 432x288 with 1 Axes>"
      ]
     },
     "metadata": {
      "needs_background": "light"
     },
     "output_type": "display_data"
    }
   ],
   "source": [
    "import matplotlib.pyplot as plt\n",
    "plt.plot(t, sol[:, 0], 'b', label='theta(t)')\n",
    "plt.legend(loc='best')\n",
    "plt.xlabel('t')\n",
    "plt.grid()\n",
    "plt.show()"
   ]
  },
  {
   "cell_type": "markdown",
   "metadata": {},
   "source": [
    "# (Por otra parte) Usando Runge Kutta"
   ]
  },
  {
   "cell_type": "code",
   "execution_count": 62,
   "metadata": {},
   "outputs": [],
   "source": [
    "import numpy as np \n",
    "import matplotlib.pyplot as plt\n",
    "import array"
   ]
  },
  {
   "cell_type": "code",
   "execution_count": 63,
   "metadata": {},
   "outputs": [],
   "source": [
    "#definiendo el modelo general\n",
    "def pendulosimple(x, params):\n",
    "        alpha = params[\"alpha\"]\n",
    "        beta = params[\"beta\"]\n",
    "       \n",
    "        \n",
    "        xdot = np.array([-alpha*x[1], beta*x[0]])\n",
    "                         \n",
    "        return xdot"
   ]
  },
  {
   "cell_type": "code",
   "execution_count": 64,
   "metadata": {},
   "outputs": [],
   "source": [
    "#Runge Kutta \n",
    "def RungeKutta4(f, x0, t0, tf, dt):\n",
    "    \n",
    "    t = np.arange(t0, tf, dt)\n",
    "    nt = t.size\n",
    "    \n",
    "    nx = x0.size\n",
    "    x = np.zeros((nx,nt))\n",
    "    \n",
    "    x[:,0] = x0\n",
    "    \n",
    "    for k in range(nt - 1):\n",
    "        k1 = dt*f(t[k], x[:,k])\n",
    "        k2 = dt*f(t[k]+dt/2, x[:,k]+k1/2)\n",
    "        k3 = dt*f(t[k]+dt/2, x[:,k]+k2/2)\n",
    "        k4 = dt*f(t[k]+dt, x[:,k]+k3)\n",
    "        \n",
    "        dx = (k1 +2*k2 + 2*k3 + k4)/6\n",
    "        \n",
    "        x[:,k+1] = x[:,k] + dx\n",
    "    return x,t \n",
    "        \n",
    "    "
   ]
  },
  {
   "cell_type": "code",
   "execution_count": 68,
   "metadata": {},
   "outputs": [],
   "source": [
    "params = {\"alpha\":2.0, \"beta\":1.0}\n",
    "\n",
    "f = lambda t, x : pendulosimple(x, params)\n",
    "\n",
    "x0 = np.array([1.0, 1.0])\n",
    "\n",
    "t0 = 0.0\n",
    "tf = 10\n",
    "dt = 0.01\n"
   ]
  },
  {
   "cell_type": "code",
   "execution_count": 69,
   "metadata": {},
   "outputs": [],
   "source": [
    "x, t = RungeKutta4(f, x0, t0, tf, dt)"
   ]
  },
  {
   "cell_type": "code",
   "execution_count": 73,
   "metadata": {},
   "outputs": [
    {
     "data": {
      "image/png": "[encoded data removed]",
      "text/plain": [
       "<Figure size 432x288 with 1 Axes>"
      ]
     },
     "metadata": {
      "needs_background": "light"
     },
     "output_type": "display_data"
    }
   ],
   "source": [
    "\n",
    "plt.plot(t, x[0,:], \"r\", label = \"theta(t)\")\n",
    "plt.xlabel(\"time\")\n",
    "plt.grid()\n",
    "plt.legend()\n",
    "plt.show()\n"
   ]
  },
  {
   "cell_type": "markdown",
   "metadata": {},
   "source": [
    "# Comparando tiempos \n"
   ]
  },
  {
   "cell_type": "code",
   "execution_count": 183,
   "metadata": {},
   "outputs": [
    {
     "name": "stdout",
     "output_type": "stream",
     "text": [
      "0.00346104499840294\n"
     ]
    }
   ],
   "source": [
    "from timeit import default_timer as timer\n",
    "\n",
    "start = timer()\n",
    "\n",
    "from scipy.integrate import odeint\n",
    "sol = odeint(pendulo, y0, t, args=(c,))\n",
    "\n",
    "end = timer()\n",
    "print(end - start)"
   ]
  },
  {
   "cell_type": "code",
   "execution_count": 182,
   "metadata": {},
   "outputs": [
    {
     "name": "stdout",
     "output_type": "stream",
     "text": [
      "0.0007060450006974861\n"
     ]
    }
   ],
   "source": [
    "start = timer()\n",
    "def RungeKutta4(f, x0, t0, tf, dt):\n",
    "    \n",
    "    t = np.arange(t0, tf, dt)\n",
    "    nt = t.size\n",
    "    \n",
    "    nx = x0.size\n",
    "    x = np.zeros((nx,nt))\n",
    "    \n",
    "    x[:,0] = x0\n",
    "    \n",
    "    for k in range(nt - 1):\n",
    "        k1 = dt*f(t[k], x[:,k])\n",
    "        k2 = dt*f(t[k]+dt/2, x[:,k]+k1/2)\n",
    "        k3 = dt*f(t[k]+dt/2, x[:,k]+k2/2)\n",
    "        k4 = dt*f(t[k]+dt, x[:,k]+k3)\n",
    "        \n",
    "        dx = (k1 +2*k2 + 2*k3 + k4)/6\n",
    "        \n",
    "        x[:,k+1] = x[:,k] + dx\n",
    "    return x,t \n",
    "end = timer()\n",
    "print(end - start)"
   ]
  }
 ],
 "metadata": {
  "kernelspec": {
   "display_name": "Python 3",
   "language": "python",
   "name": "python3"
  },
  "language_info": {
   "codemirror_mode": {
    "name": "ipython",
    "version": 3
   },
   "file_extension": ".py",
   "mimetype": "text/x-python",
   "name": "python",
   "nbconvert_exporter": "python",
   "pygments_lexer": "ipython3",
   "version": "3.8.3"
  }
 },
 "nbformat": 4,
 "nbformat_minor": 4
}
